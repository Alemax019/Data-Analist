{
 "cells": [
  {
   "cell_type": "code",
<<<<<<< HEAD
   "execution_count": 1,
=======
   "execution_count": 250,
>>>>>>> a290dd11c9e3b6f819c098b1199ed31a369f89b6
   "metadata": {},
   "outputs": [],
   "source": [
    "import pandas as pd\n",
    "import numpy as np"
   ]
  },
  {
   "attachments": {},
   "cell_type": "markdown",
   "metadata": {},
   "source": [
    "# Importamos nuestros CSV para iniciar hacer la exploracion de datos"
   ]
  },
  {
   "cell_type": "code",
<<<<<<< HEAD
   "execution_count": 2,
=======
   "execution_count": 251,
>>>>>>> a290dd11c9e3b6f819c098b1199ed31a369f89b6
   "metadata": {},
   "outputs": [],
   "source": [
    "coursera = pd.read_csv('./Dataset_PI03_Data_Analyst/Coursera_courses.csv')\n",
    "cour_rev = pd.read_csv('./Dataset_PI03_Data_Analyst/Coursera_reviews.csv')\n",
    "cour_rev_2 = pd.read_csv('./Dataset_PI03_Data_Analyst/coursera_reviews_2.csv')\n",
    "edx = pd.read_csv('./Dataset_PI03_Data_Analyst/edx_courses.csv')\n",
    "edx_rev = pd.read_csv('./Dataset_PI03_Data_Analyst/edx_reviews.csv')\n",
    "udemy = pd.read_csv('./Dataset_PI03_Data_Analyst/udemy_courses.csv')\n",
    "udemy_rev = pd.read_csv('./Dataset_PI03_Data_Analyst/udemy_reviews.csv')\n",
    "udemy_rev_2 = pd.read_csv('./Dataset_PI03_Data_Analyst/udemy_reviews_2.csv')"
   ]
  },
  {
   "attachments": {},
   "cell_type": "markdown",
   "metadata": {},
   "source": [
    "### Realizamos una validacion previa"
   ]
  },
  {
   "cell_type": "code",
   "execution_count": 252,
   "metadata": {},
   "outputs": [],
   "source": [
    "def vista(dataset):\n",
    "    print(dataset.head(2))\n",
    "    print(dataset.info())\n",
    "    print(dataset.shape)"
   ]
  },
  {
   "cell_type": "code",
   "execution_count": 253,
   "metadata": {},
   "outputs": [
    {
     "name": "stdout",
     "output_type": "stream",
     "text": [
      "                                             reviews       reviewers  \\\n",
      "0  Pretty dry, but I was able to pass with just t...     By Robert S   \n",
      "1  would be a better experience if the video and ...  By Gabriel E R   \n",
      "\n",
      "   date_reviews  rating                 course_id  \n",
      "0  Feb 12, 2020       4  google-cbrs-cpi-training  \n",
      "1  Sep 28, 2020       4  google-cbrs-cpi-training  \n",
      "<class 'pandas.core.frame.DataFrame'>\n",
      "RangeIndex: 1454711 entries, 0 to 1454710\n",
      "Data columns (total 5 columns):\n",
      " #   Column        Non-Null Count    Dtype \n",
      "---  ------        --------------    ----- \n",
      " 0   reviews       1454571 non-null  object\n",
      " 1   reviewers     1454711 non-null  object\n",
      " 2   date_reviews  1454711 non-null  object\n",
      " 3   rating        1454711 non-null  int64 \n",
      " 4   course_id     1454711 non-null  object\n",
      "dtypes: int64(1), object(4)\n",
      "memory usage: 55.5+ MB\n",
      "None\n",
      "(1454711, 5)\n"
     ]
    }
   ],
   "source": [
    "vista(cour_rev)"
   ]
  },
  {
   "cell_type": "code",
<<<<<<< HEAD
   "execution_count": 54,
=======
   "execution_count": 254,
>>>>>>> a290dd11c9e3b6f819c098b1199ed31a369f89b6
   "metadata": {},
   "outputs": [],
   "source": [
    "cour_rev = cour_rev[cour_rev.duplicated]\n",
    "cour_rev = cour_rev.dropna()\n",
    "cour_rev.drop(['reviewers'], axis=1, inplace=True)\n",
<<<<<<< HEAD
    "cour_rev['date_reviews'] = pd.to_datetime(cour_rev['date_reviews'])\n",
=======
    "df_date = cour_rev['date_reviews'].str.split('[ ,]', expand=True)\n",
    "cour_rev[['month','year']] = df_date[[0,3]]\n",
    "cour_rev.drop(['date_reviews'], axis=1, inplace=True)\n",
>>>>>>> a290dd11c9e3b6f819c098b1199ed31a369f89b6
    "cour_rev = cour_rev.dropna()\n",
    "cour_rev.drop(['course_id'], axis=1, inplace=True)\n",
    "cour_rev['plataform'] = 'coursera'\n"
   ]
  },
  {
   "cell_type": "code",
<<<<<<< HEAD
   "execution_count": 55,
=======
   "execution_count": 255,
>>>>>>> a290dd11c9e3b6f819c098b1199ed31a369f89b6
   "metadata": {},
   "outputs": [],
   "source": [
    "ejmplo = cour_rev.sample(n=25000)"
   ]
  },
  {
   "cell_type": "code",
   "execution_count": 256,
   "metadata": {},
   "outputs": [
    {
     "name": "stdout",
     "output_type": "stream",
     "text": [
      "   Unnamed: 0                                            reviews  \\\n",
      "0           0  Original review: Nov. 30, 2022Unprofessional, ...   \n",
      "1           1  Original review: Nov. 4, 2022Signed up via Lin...   \n",
      "\n",
      "                     date_reviews  rating  \n",
      "0  Original review: Nov. 30, 2022       4  \n",
      "1   Original review: Nov. 4, 2022       5  \n",
      "<class 'pandas.core.frame.DataFrame'>\n",
      "RangeIndex: 5001 entries, 0 to 5000\n",
      "Data columns (total 4 columns):\n",
      " #   Column        Non-Null Count  Dtype \n",
      "---  ------        --------------  ----- \n",
      " 0   Unnamed: 0    5001 non-null   int64 \n",
      " 1   reviews       5001 non-null   object\n",
      " 2   date_reviews  5001 non-null   object\n",
      " 3   rating        5001 non-null   int64 \n",
      "dtypes: int64(2), object(2)\n",
      "memory usage: 156.4+ KB\n",
      "None\n",
      "(5001, 4)\n"
     ]
    }
   ],
   "source": [
    "vista(cour_rev_2)"
   ]
  },
  {
   "cell_type": "code",
<<<<<<< HEAD
   "execution_count": 56,
   "metadata": {},
   "outputs": [
    {
     "name": "stderr",
     "output_type": "stream",
     "text": [
      "C:\\Users\\crist\\AppData\\Local\\Temp\\ipykernel_8980\\664061471.py:3: FutureWarning: The default value of regex will change from True to False in a future version. In addition, single character regular expressions will *not* be treated as literal strings when regex=True.\n",
      "  df_date2[1] = df_date2[1].str.replace('.','')\n"
     ]
    }
   ],
   "source": [
    "cour_rev_2.drop(['Unnamed: 0'], axis=1, inplace=True)\n",
    "df_date2 = cour_rev_2['date_reviews'].str.split(':', expand=True)\n",
    "df_date2[1] = df_date2[1].str.replace('.','')\n",
    "cour_rev_2['date_reviews'] = df_date2[1]\n",
    "cour_rev_2['date_reviews'] = pd.to_datetime(cour_rev_2['date_reviews'])\n",
    "cour_rev_2 = cour_rev_2.dropna()\n",
    "cour_rev_2['plataform'] = 'coursera'"
=======
   "execution_count": 257,
   "metadata": {},
   "outputs": [],
   "source": [
    "cour_rev_2.drop(['Unnamed: 0'], axis=1, inplace=True)\n",
    "df_date2 = cour_rev_2['date_reviews'].str.split('[ ,]', expand=True)\n",
    "cour_rev_2[['month','year']] = df_date2[[2,5]]\n",
    "cour_rev_2.drop(['date_reviews'], axis=1, inplace=True)\n",
    "cour_rev_2 = cour_rev_2.dropna()\n",
    "cour_rev['plataform'] = 'coursera'"
>>>>>>> a290dd11c9e3b6f819c098b1199ed31a369f89b6
   ]
  },
  {
   "cell_type": "code",
   "execution_count": 258,
   "metadata": {},
   "outputs": [
    {
     "name": "stdout",
     "output_type": "stream",
     "text": [
      "   Unnamed: 0                                            reviews  \\\n",
      "0           0  I'm currently enrolled in the 'Assessing Commu...   \n",
      "1           1  EdX used to be a nonprofit education company s...   \n",
      "\n",
      "   date_reviews                                             rating  \\\n",
      "0  Jan 13, 2023  <img alt=\"Rated 1 out of 5 stars\" src=\"https:/...   \n",
      "1  Dec 22, 2022  <img alt=\"Rated 1 out of 5 stars\" src=\"https:/...   \n",
      "\n",
      "                                           course  \n",
      "0  Assessing Community Needs for Library Managers  \n",
      "1                 Low quality courses with errors  \n",
      "<class 'pandas.core.frame.DataFrame'>\n",
      "RangeIndex: 22001 entries, 0 to 22000\n",
      "Data columns (total 5 columns):\n",
      " #   Column        Non-Null Count  Dtype \n",
      "---  ------        --------------  ----- \n",
      " 0   Unnamed: 0    22001 non-null  int64 \n",
      " 1   reviews       22001 non-null  object\n",
      " 2   date_reviews  22001 non-null  object\n",
      " 3   rating        22001 non-null  object\n",
      " 4   course        22001 non-null  object\n",
      "dtypes: int64(1), object(4)\n",
      "memory usage: 859.5+ KB\n",
      "None\n",
      "(22001, 5)\n"
     ]
    }
   ],
   "source": [
    "vista(edx_rev)"
   ]
  },
  {
   "cell_type": "code",
<<<<<<< HEAD
   "execution_count": 57,
=======
   "execution_count": 259,
>>>>>>> a290dd11c9e3b6f819c098b1199ed31a369f89b6
   "metadata": {},
   "outputs": [],
   "source": [
    "edx_rev.drop(['Unnamed: 0'], axis=1, inplace=True)\n",
<<<<<<< HEAD
    "edx_rev['date_reviews'] = edx_rev['date_reviews'].str.replace('Updated','')\n",
    "edx_rev['date_reviews'] = edx_rev['date_reviews'].str.replace('2019Invited','2019')\n",
    "edx_rev['date_reviews'] = edx_rev['date_reviews'].str.replace('2020Invited','2020')\n",
    "edx_rev['date_reviews'] = pd.to_datetime(edx_rev['date_reviews'])\n",
=======
    "df_date2 = edx_rev['date_reviews'].str.split('[ ,]', expand=True)\n",
    "edx_rev[['month','year']] = df_date2[[0,3]]\n",
    "edx_rev.drop(['date_reviews'], axis=1, inplace=True)\n",
>>>>>>> a290dd11c9e3b6f819c098b1199ed31a369f89b6
    "df_date3 = edx_rev['rating'].str.split('[ ,]', expand=True)\n",
    "edx_rev['rating'] = df_date3[2]\n",
    "edx_rev = edx_rev.dropna()\n",
    "edx_rev.drop(['course'], axis=1, inplace=True)\n",
    "edx_rev['rating'] = edx_rev['rating'].astype('int64')\n",
    "edx_rev['plataform'] = 'edx'"
   ]
  },
  {
   "cell_type": "code",
   "execution_count": 260,
   "metadata": {},
   "outputs": [
    {
     "name": "stdout",
     "output_type": "stream",
     "text": [
      "   Unnamed: 0                                            reviews date_reviews  \\\n",
      "0           0  website experience is horrible, no one wants y...   2 days ago   \n",
      "1           1  I bougth a course \"AZ-900 Azure Fundamentals 2...   3 days ago   \n",
      "\n",
      "                           course                  rating  \n",
      "0  website experience is horrible  Rated 1 out of 5 stars  \n",
      "1   Stay away! Dishonest company!  Rated 1 out of 5 stars  \n",
      "<class 'pandas.core.frame.DataFrame'>\n",
      "RangeIndex: 22001 entries, 0 to 22000\n",
      "Data columns (total 5 columns):\n",
      " #   Column        Non-Null Count  Dtype \n",
      "---  ------        --------------  ----- \n",
      " 0   Unnamed: 0    22001 non-null  int64 \n",
      " 1   reviews       22001 non-null  object\n",
      " 2   date_reviews  22001 non-null  object\n",
      " 3   course        22001 non-null  object\n",
      " 4   rating        22001 non-null  object\n",
      "dtypes: int64(1), object(4)\n",
      "memory usage: 859.5+ KB\n",
      "None\n",
      "(22001, 5)\n"
     ]
    }
   ],
   "source": [
    "vista(udemy_rev)"
   ]
  },
  {
   "cell_type": "code",
<<<<<<< HEAD
   "execution_count": 58,
=======
   "execution_count": 261,
>>>>>>> a290dd11c9e3b6f819c098b1199ed31a369f89b6
   "metadata": {},
   "outputs": [],
   "source": [
    "udemy_rev.drop(['Unnamed: 0'], axis=1, inplace=True)\n",
<<<<<<< HEAD
    "udemy_rev.drop([0,1,2], axis=0,inplace=True)\n",
    "udemy_rev['date_reviews'] = udemy_rev['date_reviews'].str.replace('Updated','')\n",
    "udemy_rev['date_reviews'] = udemy_rev['date_reviews'].str.replace('7 days ago','')\n",
    "udemy_rev['date_reviews'] = udemy_rev['date_reviews'].str.replace('2 days ago','')\n",
    "udemy_rev['date_reviews'] = udemy_rev['date_reviews'].str.replace('3 days ago','')\n",
    "udemy_rev['date_reviews'] = udemy_rev['date_reviews'].str.replace('5 days ago','')\n",
    "udemy_rev['date_reviews'] = pd.to_datetime(udemy_rev['date_reviews'])\n",
=======
    "df_date2 = udemy_rev['date_reviews'].str.split('[ ,]', expand=True)\n",
    "udemy_rev[['month','year']] = df_date2[[0,3]]\n",
    "udemy_rev.drop(['date_reviews'], axis=1, inplace=True)\n",
>>>>>>> a290dd11c9e3b6f819c098b1199ed31a369f89b6
    "df_date3 = udemy_rev['rating'].str.split('[ ,]', expand=True)\n",
    "udemy_rev['rating'] = df_date3[1]\n",
    "udemy_rev = udemy_rev.dropna()\n",
    "udemy_rev.drop(['course'], axis=1, inplace=True)\n",
    "udemy_rev['rating'] = udemy_rev['rating'].astype('int64')\n",
    "udemy_rev['plataform'] = 'udemy'"
   ]
  },
  {
   "cell_type": "code",
   "execution_count": 262,
   "metadata": {},
   "outputs": [
    {
     "name": "stdout",
     "output_type": "stream",
     "text": [
      "   Unnamed: 0                                            reviews  \\\n",
      "0           0  Original review: Jan. 18, 2023I bought a cours...   \n",
      "1           1  Original review: Dec. 30, 2022I purchased a gu...   \n",
      "\n",
      "                     date_reviews  rating  \n",
      "0  Original review: Jan. 18, 2023       5  \n",
      "1  Original review: Dec. 30, 2022       4  \n",
      "<class 'pandas.core.frame.DataFrame'>\n",
      "RangeIndex: 5001 entries, 0 to 5000\n",
      "Data columns (total 4 columns):\n",
      " #   Column        Non-Null Count  Dtype \n",
      "---  ------        --------------  ----- \n",
      " 0   Unnamed: 0    5001 non-null   int64 \n",
      " 1   reviews       5001 non-null   object\n",
      " 2   date_reviews  5001 non-null   object\n",
      " 3   rating        5001 non-null   int64 \n",
      "dtypes: int64(2), object(2)\n",
      "memory usage: 156.4+ KB\n",
      "None\n",
      "(5001, 4)\n"
     ]
    }
   ],
   "source": [
    "vista(udemy_rev_2)"
   ]
  },
  {
   "cell_type": "code",
<<<<<<< HEAD
   "execution_count": 67,
   "metadata": {},
   "outputs": [
    {
     "data": {
      "text/html": [
       "<div>\n",
       "<style scoped>\n",
       "    .dataframe tbody tr th:only-of-type {\n",
       "        vertical-align: middle;\n",
       "    }\n",
       "\n",
       "    .dataframe tbody tr th {\n",
       "        vertical-align: top;\n",
       "    }\n",
       "\n",
       "    .dataframe thead th {\n",
       "        text-align: right;\n",
       "    }\n",
       "</style>\n",
       "<table border=\"1\" class=\"dataframe\">\n",
       "  <thead>\n",
       "    <tr style=\"text-align: right;\">\n",
       "      <th></th>\n",
       "      <th>reviews</th>\n",
       "      <th>date_reviews</th>\n",
       "      <th>rating</th>\n",
       "      <th>plataform</th>\n",
       "    </tr>\n",
       "  </thead>\n",
       "  <tbody>\n",
       "    <tr>\n",
       "      <th>0</th>\n",
       "      <td>Original review: Jan. 18, 2023I bought a cours...</td>\n",
       "      <td>2023-01-18</td>\n",
       "      <td>5</td>\n",
       "      <td>udemy</td>\n",
       "    </tr>\n",
       "    <tr>\n",
       "      <th>1</th>\n",
       "      <td>Original review: Dec. 30, 2022I purchased a gu...</td>\n",
       "      <td>2022-12-30</td>\n",
       "      <td>4</td>\n",
       "      <td>udemy</td>\n",
       "    </tr>\n",
       "    <tr>\n",
       "      <th>2</th>\n",
       "      <td>Original review: Oct. 22, 2022I had audio prob...</td>\n",
       "      <td>2022-10-22</td>\n",
       "      <td>1</td>\n",
       "      <td>udemy</td>\n",
       "    </tr>\n",
       "    <tr>\n",
       "      <th>3</th>\n",
       "      <td>Original review: Oct. 12, 2022I paid for a Pyt...</td>\n",
       "      <td>2022-10-12</td>\n",
       "      <td>1</td>\n",
       "      <td>udemy</td>\n",
       "    </tr>\n",
       "    <tr>\n",
       "      <th>4</th>\n",
       "      <td>Original review: Sept. 25, 2022Hello, I have t...</td>\n",
       "      <td>2022-09-25</td>\n",
       "      <td>1</td>\n",
       "      <td>udemy</td>\n",
       "    </tr>\n",
       "  </tbody>\n",
       "</table>\n",
       "</div>"
      ],
      "text/plain": [
       "                                             reviews date_reviews  rating  \\\n",
       "0  Original review: Jan. 18, 2023I bought a cours...   2023-01-18       5   \n",
       "1  Original review: Dec. 30, 2022I purchased a gu...   2022-12-30       4   \n",
       "2  Original review: Oct. 22, 2022I had audio prob...   2022-10-22       1   \n",
       "3  Original review: Oct. 12, 2022I paid for a Pyt...   2022-10-12       1   \n",
       "4  Original review: Sept. 25, 2022Hello, I have t...   2022-09-25       1   \n",
       "\n",
       "  plataform  \n",
       "0     udemy  \n",
       "1     udemy  \n",
       "2     udemy  \n",
       "3     udemy  \n",
       "4     udemy  "
      ]
     },
     "execution_count": 67,
     "metadata": {},
     "output_type": "execute_result"
    }
   ],
   "source": [
    "udemy_rev_2.head()"
   ]
  },
  {
   "cell_type": "code",
   "execution_count": 60,
=======
   "execution_count": 263,
>>>>>>> a290dd11c9e3b6f819c098b1199ed31a369f89b6
   "metadata": {},
   "outputs": [],
   "source": [
    "udemy_rev_2.drop(['Unnamed: 0'], axis=1, inplace=True)\n",
<<<<<<< HEAD
    "df_date2 = udemy_rev_2['date_reviews'].str.split(':', expand=True)\n",
    "df_date2[1] = df_date2[1].str.replace('.','')\n",
    "udemy_rev_2['date_reviews'] = df_date2[1]\n",
    "udemy_rev_2['date_reviews'] = pd.to_datetime(udemy_rev_2['date_reviews'])\n",
=======
    "df_date2 = udemy_rev_2['date_reviews'].str.split('[ ,]', expand=True)\n",
    "udemy_rev_2[['month','year']] = df_date2[[2,5]]\n",
    "udemy_rev_2.drop(['date_reviews'], axis=1, inplace=True)\n",
>>>>>>> a290dd11c9e3b6f819c098b1199ed31a369f89b6
    "udemy_rev = udemy_rev.dropna()\n",
    "udemy_rev_2['plataform'] = 'udemy'"
   ]
  },
  {
   "cell_type": "code",
<<<<<<< HEAD
   "execution_count": 68,
=======
   "execution_count": 264,
>>>>>>> a290dd11c9e3b6f819c098b1199ed31a369f89b6
   "metadata": {},
   "outputs": [],
   "source": [
    "reviews_all = pd.concat([ejmplo,cour_rev_2,edx_rev,udemy_rev,udemy_rev_2])\n",
<<<<<<< HEAD
    "\n",
=======
    "month = {'Nov':'Noviembre', 'Jan':'Enero', 'Sep':'Septiembre', 'May':'Mayo', 'Dec':'Diciembre', 'Jun':'Junio', 'Aug':'Agosto', 'Feb':'Febrero', 'Jul':'Julio',\n",
    "       'Apr':'Abril', 'Oct':'Octubre', 'Mar':'Marzo', 'Nov.':'Noviembre', 'Oct.':'Octubre', 'Sept.':'Septiembre', 'July':'Julio', 'June':'Junio',\n",
    "       'March':'Marzo', 'Jan.':'Enero', 'Feb.':'Febrero', 'Dec.':'Diciembre', 'Aug.':'Agosto', 'April':'Abril','Updated':'Diciembre'}\n",
    "\n",
    "reviews_all['month'] = reviews_all['month'].replace(month)\n",
>>>>>>> a290dd11c9e3b6f819c098b1199ed31a369f89b6
    "reviews_all.reset_index(drop = True, inplace=True)\n",
    "\n",
    "reviews_all.to_csv('./Dataset_PI03_Data_Analyst/reviews_all.csv')"
   ]
  },
  {
   "cell_type": "code",
   "execution_count": 265,
   "metadata": {},
   "outputs": [],
   "source": [
    "import nltk\n",
    "import itertools"
   ]
  },
  {
   "cell_type": "code",
   "execution_count": 266,
   "metadata": {},
   "outputs": [
    {
     "name": "stderr",
     "output_type": "stream",
     "text": [
      "[nltk_data] Downloading package punkt to\n",
      "[nltk_data]     C:\\Users\\crist\\AppData\\Roaming\\nltk_data...\n",
      "[nltk_data]   Package punkt is already up-to-date!\n",
      "[nltk_data] Downloading package stopwords to\n",
      "[nltk_data]     C:\\Users\\crist\\AppData\\Roaming\\nltk_data...\n",
      "[nltk_data]   Package stopwords is already up-to-date!\n"
     ]
    },
    {
     "data": {
      "text/plain": [
       "True"
      ]
     },
     "execution_count": 266,
     "metadata": {},
     "output_type": "execute_result"
    }
   ],
   "source": [
    "# Esto sirve para configurar NLTK. La primera vez puede tardar un poco\n",
    "nltk.download('punkt')\n",
    "nltk.download('stopwords')"
   ]
  },
  {
   "cell_type": "code",
   "execution_count": 267,
   "metadata": {},
   "outputs": [],
   "source": [
    "stopwords = nltk.corpus.stopwords.words('english')\n",
    "lista = ['I','It','The','This','one','would','2','really','much','even','way','courses','de','que','There','get','like','first',\n",
    "         'lot','They','If','They','course','many']\n",
    "for i in lista:\n",
    "    stopwords.append(i)"
   ]
  },
  {
   "cell_type": "code",
   "execution_count": 268,
   "metadata": {},
   "outputs": [],
   "source": [
    "def words(dataset,star):\n",
    "    dataset[dataset.rating==star]\n",
    "    filtrar = []\n",
    "    if True:\n",
    "        filtrar.append(\"u\")\n",
    "        filtrar.append(\"new\")\n",
    "\n",
    "    star1 = dataset[dataset.rating==star]\n",
    "\n",
    "    words_star1 = []\n",
    "    for i in range(star1.shape[0]):\n",
    "        titular = star1.iloc[i].reviews\n",
    "        titular = nltk.tokenize.RegexpTokenizer(\"[\\w]+\").tokenize(titular)\n",
    "        titular = [word for word in titular if word not in stopwords]\n",
    "        titular = [word for word in titular if word not in filtrar]\n",
    "\n",
    "        words_star1.append(titular)\n",
    "\n",
    "    words_star1 = list(itertools.chain(*words_star1)) \n",
    "    freq_star1 = nltk.FreqDist(words_star1) \n",
    "    df_words_star1 = pd.DataFrame(list(freq_star1.items()), columns = [\"Word\",\"Frequency\"])\n",
    "    df_words_star1.sort_values('Frequency',ascending=False, inplace = True)  \n",
    "    df_words_star1.reset_index(drop = True, inplace=True)\n",
    "\n",
    "    return df_words_star1"
   ]
  },
  {
   "cell_type": "code",
   "execution_count": 274,
   "metadata": {},
   "outputs": [],
   "source": [
    "df_words_star1 = words(reviews_all,1)\n",
    "df_words_star1.to_csv('./Dataset_PI03_Data_Analyst/star1.csv')\n",
    "df_words_star2 = words(reviews_all,2)\n",
    "df_words_star2.to_csv('./Dataset_PI03_Data_Analyst/star2.csv')\n",
    "df_words_star3 = words(reviews_all,3)\n",
    "df_words_star3.to_csv('./Dataset_PI03_Data_Analyst/star3.csv')\n",
    "df_words_star4 = words(reviews_all,4)\n",
    "df_words_star4.to_csv('./Dataset_PI03_Data_Analyst/star4.csv')\n",
    "df_words_star5 = words(reviews_all,5)\n",
    "df_words_star5.to_csv('./Dataset_PI03_Data_Analyst/star5.csv')"
   ]
  },
  {
   "cell_type": "code",
<<<<<<< HEAD
   "execution_count": 3,
=======
   "execution_count": 270,
>>>>>>> a290dd11c9e3b6f819c098b1199ed31a369f89b6
   "metadata": {},
   "outputs": [],
   "source": [
    "coursera.drop(coursera[['course_id','course_url']], axis=1, inplace=True)\n",
    "coursera = coursera.drop_duplicates(subset='name')\n",
<<<<<<< HEAD
    "coursera['plataform'] = 'coursera'\n",
    "\n",
    "#coursera.to_csv('./Dataset_PI03_Data_Analyst/coursera_all.csv')"
=======
    "\n",
    "coursera.to_csv('./Dataset_PI03_Data_Analyst/coursera_all.csv')"
>>>>>>> a290dd11c9e3b6f819c098b1199ed31a369f89b6
   ]
  },
  {
   "cell_type": "code",
<<<<<<< HEAD
   "execution_count": 4,
   "metadata": {},
   "outputs": [],
   "source": [
    "edx = edx[['title','institution','price']]\n",
    "edx = edx.drop_duplicates(subset='title')\n",
    "dfre = edx['price'].str.split('[ $]', expand=True)\n",
    "edx['price'] = dfre[6]\n",
    "edx['plataform'] = 'edx'\n",
    "\n",
    "#edx.to_csv('./Dataset_PI03_Data_Analyst/edx_all.csv')"
=======
   "execution_count": 271,
   "metadata": {},
   "outputs": [],
   "source": [
    "edx_2 = edx[['title','institution','price']]\n",
    "edx_2 = edx.drop_duplicates(subset='title')\n",
    "dfre = edx_2['price'].str.split('[ $]', expand=True)\n",
    "edx_2['price'] = dfre[6]\n",
    "\n",
    "edx_2.to_csv('./Dataset_PI03_Data_Analyst/edx_all.csv')"
>>>>>>> a290dd11c9e3b6f819c098b1199ed31a369f89b6
   ]
  },
  {
   "cell_type": "code",
<<<<<<< HEAD
   "execution_count": 5,
   "metadata": {},
   "outputs": [
    {
     "name": "stderr",
     "output_type": "stream",
     "text": [
      "C:\\Users\\crist\\AppData\\Local\\Temp\\ipykernel_2120\\1177428184.py:2: SettingWithCopyWarning: \n",
      "A value is trying to be set on a copy of a slice from a DataFrame.\n",
      "Try using .loc[row_indexer,col_indexer] = value instead\n",
      "\n",
      "See the caveats in the documentation: https://pandas.pydata.org/pandas-docs/stable/user_guide/indexing.html#returning-a-view-versus-a-copy\n",
      "  udemy_2['institution'] = 'udemy'\n"
     ]
    }
   ],
=======
   "execution_count": 272,
   "metadata": {},
   "outputs": [],
>>>>>>> a290dd11c9e3b6f819c098b1199ed31a369f89b6
   "source": [
    "udemy_2 = udemy[['course_title','price']]\n",
    "udemy_2['institution'] = 'udemy'\n",
    "udemy_2 = udemy_2.drop_duplicates(subset='course_title')\n",
<<<<<<< HEAD
    "udemy_2['plataform'] = 'udemy'\n",
    "\n",
    "#udemy_2.to_csv('./Dataset_PI03_Data_Analyst/udemy_all.csv')"
=======
    "\n",
    "udemy_2.to_csv('./Dataset_PI03_Data_Analyst/udemy_all.csv')"
>>>>>>> a290dd11c9e3b6f819c098b1199ed31a369f89b6
   ]
  },
  {
   "cell_type": "code",
<<<<<<< HEAD
   "execution_count": 6,
   "metadata": {},
   "outputs": [],
   "source": [
    "coursera.rename(columns={'name':'course_title'}, inplace=True)\n",
    "edx.rename(columns={'title':'course_title'}, inplace=True)\n",
    "udemy_3 = udemy_2.sample(850)\n",
    "edx.drop(['price'],axis=1, inplace=True)\n",
    "udemy_3.drop(['price'],axis=1, inplace=True)\n",
    "new_all = pd.concat([coursera,edx,udemy_3])\n",
    "new_all.to_csv('./Dataset_PI03_Data_Analyst/new_all.csv')"
   ]
=======
   "execution_count": 273,
   "metadata": {},
   "outputs": [],
   "source": [
    "# importamos la librerias necesarias\n",
    "#import numpy as np\n",
    "#import pandas as pd\n",
    "#from os import path\n",
    "#from PIL import Image\n",
    "#from wordcloud import WordCloud, STOPWORDS, ImageColorGenerator\n",
    "#import matplotlib.pyplot as plt\n",
    "#import warnings\n",
    "#warnings.filterwarnings(\"ignore\")"
   ]
  },
  {
   "cell_type": "code",
   "execution_count": null,
   "metadata": {},
   "outputs": [],
   "source": []
>>>>>>> a290dd11c9e3b6f819c098b1199ed31a369f89b6
  }
 ],
 "metadata": {
  "kernelspec": {
   "display_name": "Python 3",
   "language": "python",
   "name": "python3"
  },
  "language_info": {
   "codemirror_mode": {
    "name": "ipython",
    "version": 3
   },
   "file_extension": ".py",
   "mimetype": "text/x-python",
   "name": "python",
   "nbconvert_exporter": "python",
   "pygments_lexer": "ipython3",
   "version": "3.10.9"
  },
  "orig_nbformat": 4,
  "vscode": {
   "interpreter": {
    "hash": "d2cebceb6c68f4ea04f0cb4e6546cfb3722fb6cf73137fe815b750b1ee1a9c58"
   }
  }
 },
 "nbformat": 4,
 "nbformat_minor": 2
}
